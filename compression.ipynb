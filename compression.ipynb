{
 "cells": [
  {
   "cell_type": "code",
   "execution_count": 3,
   "metadata": {},
   "outputs": [],
   "source": [
    "import pandas as pd\n",
    "import os\n",
    "from pydub import AudioSegment\n",
    "import plotly.express as px"
   ]
  },
  {
   "cell_type": "code",
   "execution_count": 4,
   "metadata": {},
   "outputs": [
    {
     "name": "stdout",
     "output_type": "stream",
     "text": [
      "Current directory: data/genres_original/pop\n",
      "File: pop.00027.wav\n",
      "File: pop.00033.wav\n",
      "File: pop.00032.wav\n",
      "File: pop.00026.wav\n",
      "File: pop.00030.wav\n",
      "File: pop.00024.wav\n",
      "File: pop.00018.wav\n",
      "File: pop.00019.wav\n",
      "File: pop.00025.wav\n",
      "File: pop.00031.wav\n",
      "File: pop.00009.wav\n",
      "File: pop.00035.wav\n",
      "File: pop.00021.wav\n",
      "File: pop.00020.wav\n",
      "File: pop.00034.wav\n",
      "File: pop.00008.wav\n",
      "File: pop.00022.wav\n",
      "File: pop.00036.wav\n",
      "File: pop.00037.wav\n",
      "File: pop.00023.wav\n",
      "File: pop.00044.wav\n",
      "File: pop.00050.wav\n",
      "File: pop.00078.wav\n",
      "File: pop.00087.wav\n",
      "File: pop.00093.wav\n",
      "File: pop.00092.wav\n",
      "File: pop.00086.wav\n",
      "File: pop.00079.wav\n",
      "File: pop.00051.wav\n",
      "File: pop.00045.wav\n",
      "File: pop.00053.wav\n",
      "File: pop.00047.wav\n",
      "File: pop.00090.wav\n",
      "File: pop.00084.wav\n",
      "File: pop.00085.wav\n",
      "File: pop.00091.wav\n",
      "File: pop.00046.wav\n",
      "File: pop.00052.wav\n",
      "File: pop.00056.wav\n",
      "File: pop.00042.wav\n",
      "File: pop.00095.wav\n",
      "File: pop.00081.wav\n",
      "File: pop.00080.wav\n",
      "File: pop.00094.wav\n",
      "File: pop.00043.wav\n",
      "File: pop.00057.wav\n",
      "File: pop.00069.wav\n",
      "File: pop.00041.wav\n",
      "File: pop.00055.wav\n",
      "File: pop.00082.wav\n",
      "File: pop.00096.wav\n",
      "File: pop.00097.wav\n",
      "File: pop.00083.wav\n",
      "File: pop.00054.wav\n",
      "File: pop.00040.wav\n",
      "File: pop.00068.wav\n",
      "File: pop.00065.wav\n",
      "File: pop.00071.wav\n",
      "File: pop.00059.wav\n",
      "File: pop.00058.wav\n",
      "File: pop.00070.wav\n",
      "File: pop.00064.wav\n",
      "File: pop.00072.wav\n",
      "File: pop.00066.wav\n",
      "File: pop.00099.wav\n",
      "File: pop.00098.wav\n",
      "File: pop.00067.wav\n",
      "File: pop.00073.wav\n",
      "File: pop.00077.wav\n",
      "File: pop.00063.wav\n",
      "File: pop.00088.wav\n",
      "File: pop.00089.wav\n",
      "File: pop.00062.wav\n",
      "File: pop.00076.wav\n",
      "File: pop.00048.wav\n",
      "File: pop.00060.wav\n",
      "File: pop.00074.wav\n",
      "File: pop.00075.wav\n",
      "File: pop.00061.wav\n",
      "File: pop.00049.wav\n",
      "File: pop.00006.wav\n",
      "File: pop.00012.wav\n",
      "File: pop.00013.wav\n",
      "File: pop.00007.wav\n",
      "File: pop.00011.wav\n",
      "File: pop.00005.wav\n",
      "File: pop.00039.wav\n",
      "File: pop.00038.wav\n",
      "File: pop.00004.wav\n",
      "File: pop.00010.wav\n",
      "File: pop.00028.wav\n",
      "File: pop.00014.wav\n",
      "File: pop.00000.wav\n",
      "File: pop.00001.wav\n",
      "File: pop.00015.wav\n",
      "File: pop.00029.wav\n",
      "File: pop.00003.wav\n",
      "File: pop.00017.wav\n",
      "File: pop.00016.wav\n",
      "File: pop.00002.wav\n",
      "----------\n",
      "Current directory: data/genres_original/metal\n",
      "File: metal.00022.wav\n",
      "File: metal.00036.wav\n",
      "File: metal.00037.wav\n",
      "File: metal.00023.wav\n",
      "File: metal.00009.wav\n",
      "File: metal.00035.wav\n",
      "File: metal.00021.wav\n",
      "File: metal.00020.wav\n",
      "File: metal.00034.wav\n",
      "File: metal.00008.wav\n",
      "File: metal.00030.wav\n",
      "File: metal.00024.wav\n",
      "File: metal.00018.wav\n",
      "File: metal.00019.wav\n",
      "File: metal.00025.wav\n",
      "File: metal.00031.wav\n",
      "File: metal.00027.wav\n",
      "File: metal.00033.wav\n",
      "File: metal.00032.wav\n",
      "File: metal.00026.wav\n",
      "File: metal.00082.wav\n",
      "File: metal.00096.wav\n",
      "File: metal.00069.wav\n",
      "File: metal.00041.wav\n",
      "File: metal.00055.wav\n",
      "File: metal.00054.wav\n",
      "File: metal.00040.wav\n",
      "File: metal.00068.wav\n",
      "File: metal.00097.wav\n",
      "File: metal.00083.wav\n",
      "File: metal.00095.wav\n",
      "File: metal.00081.wav\n",
      "File: metal.00056.wav\n",
      "File: metal.00042.wav\n",
      "File: metal.00043.wav\n",
      "File: metal.00057.wav\n",
      "File: metal.00080.wav\n",
      "File: metal.00094.wav\n",
      "File: metal.00090.wav\n",
      "File: metal.00084.wav\n",
      "File: metal.00053.wav\n",
      "File: metal.00047.wav\n",
      "File: metal.00046.wav\n",
      "File: metal.00052.wav\n",
      "File: metal.00085.wav\n",
      "File: metal.00091.wav\n",
      "File: metal.00087.wav\n",
      "File: metal.00093.wav\n",
      "File: metal.00044.wav\n",
      "File: metal.00050.wav\n",
      "File: metal.00078.wav\n",
      "File: metal.00079.wav\n",
      "File: metal.00051.wav\n",
      "File: metal.00045.wav\n",
      "File: metal.00092.wav\n",
      "File: metal.00086.wav\n",
      "File: metal.00048.wav\n",
      "File: metal.00060.wav\n",
      "File: metal.00074.wav\n",
      "File: metal.00075.wav\n",
      "File: metal.00061.wav\n",
      "File: metal.00049.wav\n",
      "File: metal.00088.wav\n",
      "File: metal.00077.wav\n",
      "File: metal.00063.wav\n",
      "File: metal.00062.wav\n",
      "File: metal.00076.wav\n",
      "File: metal.00089.wav\n",
      "File: metal.00099.wav\n",
      "File: metal.00072.wav\n",
      "File: metal.00066.wav\n",
      "File: metal.00067.wav\n",
      "File: metal.00073.wav\n",
      "File: metal.00098.wav\n",
      "File: metal.00065.wav\n",
      "File: metal.00071.wav\n",
      "File: metal.00059.wav\n",
      "File: metal.00058.wav\n",
      "File: metal.00070.wav\n",
      "File: metal.00064.wav\n",
      "File: metal.00003.wav\n",
      "File: metal.00017.wav\n",
      "File: metal.00016.wav\n",
      "File: metal.00002.wav\n",
      "File: metal.00028.wav\n",
      "File: metal.00014.wav\n",
      "File: metal.00000.wav\n",
      "File: metal.00001.wav\n",
      "File: metal.00015.wav\n",
      "File: metal.00029.wav\n",
      "File: metal.00011.wav\n",
      "File: metal.00005.wav\n",
      "File: metal.00039.wav\n",
      "File: metal.00038.wav\n",
      "File: metal.00004.wav\n",
      "File: metal.00010.wav\n",
      "File: metal.00006.wav\n",
      "File: metal.00012.wav\n",
      "File: metal.00013.wav\n",
      "File: metal.00007.wav\n",
      "----------\n",
      "Current directory: data/genres_original/disco\n",
      "File: disco.00052.wav\n",
      "File: disco.00046.wav\n",
      "File: disco.00091.wav\n",
      "File: disco.00085.wav\n",
      "File: disco.00084.wav\n",
      "File: disco.00090.wav\n",
      "File: disco.00047.wav\n",
      "File: disco.00053.wav\n",
      "File: disco.00045.wav\n",
      "File: disco.00051.wav\n",
      "File: disco.00079.wav\n",
      "File: disco.00086.wav\n",
      "File: disco.00092.wav\n",
      "File: disco.00093.wav\n",
      "File: disco.00087.wav\n",
      "File: disco.00078.wav\n",
      "File: disco.00050.wav\n",
      "File: disco.00044.wav\n",
      "File: disco.00068.wav\n",
      "File: disco.00040.wav\n",
      "File: disco.00054.wav\n",
      "File: disco.00083.wav\n",
      "File: disco.00097.wav\n",
      "File: disco.00096.wav\n",
      "File: disco.00082.wav\n",
      "File: disco.00055.wav\n",
      "File: disco.00041.wav\n",
      "File: disco.00069.wav\n",
      "File: disco.00057.wav\n",
      "File: disco.00043.wav\n",
      "File: disco.00094.wav\n",
      "File: disco.00080.wav\n",
      "File: disco.00081.wav\n",
      "File: disco.00095.wav\n",
      "File: disco.00042.wav\n",
      "File: disco.00056.wav\n",
      "File: disco.00031.wav\n",
      "File: disco.00025.wav\n",
      "File: disco.00019.wav\n",
      "File: disco.00018.wav\n",
      "File: disco.00024.wav\n",
      "File: disco.00030.wav\n",
      "File: disco.00026.wav\n",
      "File: disco.00032.wav\n",
      "File: disco.00033.wav\n",
      "File: disco.00027.wav\n",
      "File: disco.00023.wav\n",
      "File: disco.00037.wav\n",
      "File: disco.00036.wav\n",
      "File: disco.00022.wav\n",
      "File: disco.00008.wav\n",
      "File: disco.00034.wav\n",
      "File: disco.00020.wav\n",
      "File: disco.00021.wav\n",
      "File: disco.00035.wav\n",
      "File: disco.00009.wav\n",
      "File: disco.00010.wav\n",
      "File: disco.00004.wav\n",
      "File: disco.00038.wav\n",
      "File: disco.00039.wav\n",
      "File: disco.00005.wav\n",
      "File: disco.00011.wav\n",
      "File: disco.00007.wav\n",
      "File: disco.00013.wav\n",
      "File: disco.00012.wav\n",
      "File: disco.00006.wav\n",
      "File: disco.00002.wav\n",
      "File: disco.00016.wav\n",
      "File: disco.00017.wav\n",
      "File: disco.00003.wav\n",
      "File: disco.00029.wav\n",
      "File: disco.00015.wav\n",
      "File: disco.00001.wav\n",
      "File: disco.00000.wav\n",
      "File: disco.00014.wav\n",
      "File: disco.00028.wav\n",
      "File: disco.00073.wav\n",
      "File: disco.00067.wav\n",
      "File: disco.00098.wav\n",
      "File: disco.00099.wav\n",
      "File: disco.00066.wav\n",
      "File: disco.00072.wav\n",
      "File: disco.00064.wav\n",
      "File: disco.00070.wav\n",
      "File: disco.00058.wav\n",
      "File: disco.00059.wav\n",
      "File: disco.00071.wav\n",
      "File: disco.00065.wav\n",
      "File: disco.00049.wav\n",
      "File: disco.00061.wav\n",
      "File: disco.00075.wav\n",
      "File: disco.00074.wav\n",
      "File: disco.00060.wav\n",
      "File: disco.00048.wav\n",
      "File: disco.00076.wav\n",
      "File: disco.00062.wav\n",
      "File: disco.00089.wav\n",
      "File: disco.00088.wav\n",
      "File: disco.00063.wav\n",
      "File: disco.00077.wav\n",
      "----------\n",
      "Current directory: data/genres_original/blues\n",
      "File: blues.00093.wav\n",
      "File: blues.00087.wav\n",
      "File: blues.00050.wav\n",
      "File: blues.00044.wav\n",
      "File: blues.00078.wav\n",
      "File: blues.00079.wav\n",
      "File: blues.00045.wav\n",
      "File: blues.00051.wav\n",
      "File: blues.00086.wav\n",
      "File: blues.00092.wav\n",
      "File: blues.00084.wav\n",
      "File: blues.00090.wav\n",
      "File: blues.00047.wav\n",
      "File: blues.00053.wav\n",
      "File: blues.00052.wav\n",
      "File: blues.00046.wav\n",
      "File: blues.00091.wav\n",
      "File: blues.00085.wav\n",
      "File: blues.00081.wav\n",
      "File: blues.00095.wav\n",
      "File: blues.00042.wav\n",
      "File: blues.00056.wav\n",
      "File: blues.00057.wav\n",
      "File: blues.00043.wav\n",
      "File: blues.00094.wav\n",
      "File: blues.00080.wav\n",
      "File: blues.00096.wav\n",
      "File: blues.00082.wav\n",
      "File: blues.00069.wav\n",
      "File: blues.00055.wav\n",
      "File: blues.00041.wav\n",
      "File: blues.00040.wav\n",
      "File: blues.00054.wav\n",
      "File: blues.00068.wav\n",
      "File: blues.00083.wav\n",
      "File: blues.00097.wav\n",
      "File: blues.00033.wav\n",
      "File: blues.00027.wav\n",
      "File: blues.00026.wav\n",
      "File: blues.00032.wav\n",
      "File: blues.00024.wav\n",
      "File: blues.00030.wav\n",
      "File: blues.00018.wav\n",
      "File: blues.00019.wav\n",
      "File: blues.00031.wav\n",
      "File: blues.00025.wav\n",
      "File: blues.00009.wav\n",
      "File: blues.00021.wav\n",
      "File: blues.00035.wav\n",
      "File: blues.00034.wav\n",
      "File: blues.00020.wav\n",
      "File: blues.00008.wav\n",
      "File: blues.00036.wav\n",
      "File: blues.00022.wav\n",
      "File: blues.00023.wav\n",
      "File: blues.00037.wav\n",
      "File: blues.00012.wav\n",
      "File: blues.00006.wav\n",
      "File: blues.00007.wav\n",
      "File: blues.00013.wav\n",
      "File: blues.00005.wav\n",
      "File: blues.00011.wav\n",
      "File: blues.00039.wav\n",
      "File: blues.00038.wav\n",
      "File: blues.00010.wav\n",
      "File: blues.00004.wav\n",
      "File: blues.00028.wav\n",
      "File: blues.00000.wav\n",
      "File: blues.00014.wav\n",
      "File: blues.00015.wav\n",
      "File: blues.00001.wav\n",
      "File: blues.00029.wav\n",
      "File: blues.00017.wav\n",
      "File: blues.00003.wav\n",
      "File: blues.00002.wav\n",
      "File: blues.00016.wav\n",
      "File: blues.00071.wav\n",
      "File: blues.00065.wav\n",
      "File: blues.00059.wav\n",
      "File: blues.00058.wav\n",
      "File: blues.00064.wav\n",
      "File: blues.00070.wav\n",
      "File: blues.00099.wav\n",
      "File: blues.00066.wav\n",
      "File: blues.00072.wav\n",
      "File: blues.00073.wav\n",
      "File: blues.00067.wav\n",
      "File: blues.00098.wav\n",
      "File: blues.00088.wav\n",
      "File: blues.00063.wav\n",
      "File: blues.00077.wav\n",
      "File: blues.00076.wav\n",
      "File: blues.00062.wav\n",
      "File: blues.00089.wav\n",
      "File: blues.00048.wav\n",
      "File: blues.00074.wav\n",
      "File: blues.00060.wav\n",
      "File: blues.00061.wav\n",
      "File: blues.00075.wav\n",
      "File: blues.00049.wav\n",
      "----------\n",
      "Current directory: data/genres_original/reggae\n",
      "File: reggae.00080.wav\n",
      "File: reggae.00094.wav\n",
      "File: reggae.00043.wav\n",
      "File: reggae.00057.wav\n",
      "File: reggae.00056.wav\n",
      "File: reggae.00042.wav\n",
      "File: reggae.00095.wav\n",
      "File: reggae.00081.wav\n",
      "File: reggae.00097.wav\n",
      "File: reggae.00083.wav\n",
      "File: reggae.00054.wav\n",
      "File: reggae.00040.wav\n",
      "File: reggae.00068.wav\n",
      "File: reggae.00069.wav\n",
      "File: reggae.00041.wav\n",
      "File: reggae.00055.wav\n",
      "File: reggae.00082.wav\n",
      "File: reggae.00096.wav\n",
      "File: reggae.00092.wav\n",
      "File: reggae.00086.wav\n",
      "File: reggae.00079.wav\n",
      "File: reggae.00051.wav\n",
      "File: reggae.00045.wav\n",
      "File: reggae.00044.wav\n",
      "File: reggae.00050.wav\n",
      "File: reggae.00078.wav\n",
      "File: reggae.00087.wav\n",
      "File: reggae.00093.wav\n",
      "File: reggae.00085.wav\n",
      "File: reggae.00091.wav\n",
      "File: reggae.00046.wav\n",
      "File: reggae.00052.wav\n",
      "File: reggae.00053.wav\n",
      "File: reggae.00047.wav\n",
      "File: reggae.00090.wav\n",
      "File: reggae.00084.wav\n",
      "File: reggae.00020.wav\n",
      "File: reggae.00034.wav\n",
      "File: reggae.00008.wav\n",
      "File: reggae.00009.wav\n",
      "File: reggae.00035.wav\n",
      "File: reggae.00021.wav\n",
      "File: reggae.00037.wav\n",
      "File: reggae.00023.wav\n",
      "File: reggae.00022.wav\n",
      "File: reggae.00036.wav\n",
      "File: reggae.00032.wav\n",
      "File: reggae.00026.wav\n",
      "File: reggae.00027.wav\n",
      "File: reggae.00033.wav\n",
      "File: reggae.00019.wav\n",
      "File: reggae.00025.wav\n",
      "File: reggae.00031.wav\n",
      "File: reggae.00030.wav\n",
      "File: reggae.00024.wav\n",
      "File: reggae.00018.wav\n",
      "File: reggae.00001.wav\n",
      "File: reggae.00015.wav\n",
      "File: reggae.00029.wav\n",
      "File: reggae.00028.wav\n",
      "File: reggae.00014.wav\n",
      "File: reggae.00000.wav\n",
      "File: reggae.00016.wav\n",
      "File: reggae.00002.wav\n",
      "File: reggae.00003.wav\n",
      "File: reggae.00017.wav\n",
      "File: reggae.00013.wav\n",
      "File: reggae.00007.wav\n",
      "File: reggae.00006.wav\n",
      "File: reggae.00012.wav\n",
      "File: reggae.00038.wav\n",
      "File: reggae.00004.wav\n",
      "File: reggae.00010.wav\n",
      "File: reggae.00011.wav\n",
      "File: reggae.00005.wav\n",
      "File: reggae.00039.wav\n",
      "File: reggae.00089.wav\n",
      "File: reggae.00062.wav\n",
      "File: reggae.00076.wav\n",
      "File: reggae.00077.wav\n",
      "File: reggae.00063.wav\n",
      "File: reggae.00088.wav\n",
      "File: reggae.00075.wav\n",
      "File: reggae.00061.wav\n",
      "File: reggae.00049.wav\n",
      "File: reggae.00048.wav\n",
      "File: reggae.00060.wav\n",
      "File: reggae.00074.wav\n",
      "File: reggae.00058.wav\n",
      "File: reggae.00070.wav\n",
      "File: reggae.00064.wav\n",
      "File: reggae.00065.wav\n",
      "File: reggae.00071.wav\n",
      "File: reggae.00059.wav\n",
      "File: reggae.00098.wav\n",
      "File: reggae.00067.wav\n",
      "File: reggae.00073.wav\n",
      "File: reggae.00072.wav\n",
      "File: reggae.00066.wav\n",
      "File: reggae.00099.wav\n",
      "----------\n",
      "Current directory: data/genres_original/classical\n",
      "File: classical.00079.wav\n",
      "File: classical.00045.wav\n",
      "File: classical.00051.wav\n",
      "File: classical.00086.wav\n",
      "File: classical.00092.wav\n",
      "File: classical.00093.wav\n",
      "File: classical.00087.wav\n",
      "File: classical.00050.wav\n",
      "File: classical.00044.wav\n",
      "File: classical.00078.wav\n",
      "File: classical.00052.wav\n",
      "File: classical.00046.wav\n",
      "File: classical.00091.wav\n",
      "File: classical.00085.wav\n",
      "File: classical.00084.wav\n",
      "File: classical.00090.wav\n",
      "File: classical.00047.wav\n",
      "File: classical.00053.wav\n",
      "File: classical.00057.wav\n",
      "File: classical.00043.wav\n",
      "File: classical.00094.wav\n",
      "File: classical.00080.wav\n",
      "File: classical.00081.wav\n",
      "File: classical.00095.wav\n",
      "File: classical.00042.wav\n",
      "File: classical.00056.wav\n",
      "File: classical.00040.wav\n",
      "File: classical.00054.wav\n",
      "File: classical.00068.wav\n",
      "File: classical.00083.wav\n",
      "File: classical.00097.wav\n",
      "File: classical.00096.wav\n",
      "File: classical.00082.wav\n",
      "File: classical.00069.wav\n",
      "File: classical.00055.wav\n",
      "File: classical.00041.wav\n",
      "File: classical.00026.wav\n",
      "File: classical.00032.wav\n",
      "File: classical.00033.wav\n",
      "File: classical.00027.wav\n",
      "File: classical.00019.wav\n",
      "File: classical.00031.wav\n",
      "File: classical.00025.wav\n",
      "File: classical.00024.wav\n",
      "File: classical.00030.wav\n",
      "File: classical.00018.wav\n",
      "File: classical.00034.wav\n",
      "File: classical.00020.wav\n",
      "File: classical.00008.wav\n",
      "File: classical.00009.wav\n",
      "File: classical.00021.wav\n",
      "File: classical.00035.wav\n",
      "File: classical.00023.wav\n",
      "File: classical.00037.wav\n",
      "File: classical.00036.wav\n",
      "File: classical.00022.wav\n",
      "File: classical.00007.wav\n",
      "File: classical.00013.wav\n",
      "File: classical.00012.wav\n",
      "File: classical.00006.wav\n",
      "File: classical.00038.wav\n",
      "File: classical.00010.wav\n",
      "File: classical.00004.wav\n",
      "File: classical.00005.wav\n",
      "File: classical.00011.wav\n",
      "File: classical.00039.wav\n",
      "File: classical.00015.wav\n",
      "File: classical.00001.wav\n",
      "File: classical.00029.wav\n",
      "File: classical.00028.wav\n",
      "File: classical.00000.wav\n",
      "File: classical.00014.wav\n",
      "File: classical.00002.wav\n",
      "File: classical.00016.wav\n",
      "File: classical.00017.wav\n",
      "File: classical.00003.wav\n",
      "File: classical.00058.wav\n",
      "File: classical.00064.wav\n",
      "File: classical.00070.wav\n",
      "File: classical.00071.wav\n",
      "File: classical.00065.wav\n",
      "File: classical.00059.wav\n",
      "File: classical.00073.wav\n",
      "File: classical.00067.wav\n",
      "File: classical.00098.wav\n",
      "File: classical.00099.wav\n",
      "File: classical.00066.wav\n",
      "File: classical.00072.wav\n",
      "File: classical.00076.wav\n",
      "File: classical.00062.wav\n",
      "File: classical.00089.wav\n",
      "File: classical.00088.wav\n",
      "File: classical.00063.wav\n",
      "File: classical.00077.wav\n",
      "File: classical.00061.wav\n",
      "File: classical.00075.wav\n",
      "File: classical.00049.wav\n",
      "File: classical.00048.wav\n",
      "File: classical.00074.wav\n",
      "File: classical.00060.wav\n",
      "----------\n",
      "Current directory: data/genres_original/rock\n",
      "File: rock.00011.wav\n",
      "File: rock.00005.wav\n",
      "File: rock.00039.wav\n",
      "File: rock.00038.wav\n",
      "File: rock.00004.wav\n",
      "File: rock.00010.wav\n",
      "File: rock.00006.wav\n",
      "File: rock.00012.wav\n",
      "File: rock.00013.wav\n",
      "File: rock.00007.wav\n",
      "File: rock.00003.wav\n",
      "File: rock.00017.wav\n",
      "File: rock.00016.wav\n",
      "File: rock.00002.wav\n",
      "File: rock.00028.wav\n",
      "File: rock.00014.wav\n",
      "File: rock.00000.wav\n",
      "File: rock.00001.wav\n",
      "File: rock.00015.wav\n",
      "File: rock.00029.wav\n",
      "File: rock.00099.wav\n",
      "File: rock.00072.wav\n",
      "File: rock.00066.wav\n",
      "File: rock.00067.wav\n",
      "File: rock.00073.wav\n",
      "File: rock.00098.wav\n",
      "File: rock.00065.wav\n",
      "File: rock.00071.wav\n",
      "File: rock.00059.wav\n",
      "File: rock.00058.wav\n",
      "File: rock.00070.wav\n",
      "File: rock.00064.wav\n",
      "File: rock.00048.wav\n",
      "File: rock.00060.wav\n",
      "File: rock.00074.wav\n",
      "File: rock.00075.wav\n",
      "File: rock.00061.wav\n",
      "File: rock.00049.wav\n",
      "File: rock.00088.wav\n",
      "File: rock.00077.wav\n",
      "File: rock.00063.wav\n",
      "File: rock.00062.wav\n",
      "File: rock.00076.wav\n",
      "File: rock.00089.wav\n",
      "File: rock.00090.wav\n",
      "File: rock.00084.wav\n",
      "File: rock.00053.wav\n",
      "File: rock.00047.wav\n",
      "File: rock.00046.wav\n",
      "File: rock.00052.wav\n",
      "File: rock.00085.wav\n",
      "File: rock.00091.wav\n",
      "File: rock.00087.wav\n",
      "File: rock.00093.wav\n",
      "File: rock.00044.wav\n",
      "File: rock.00050.wav\n",
      "File: rock.00078.wav\n",
      "File: rock.00079.wav\n",
      "File: rock.00051.wav\n",
      "File: rock.00045.wav\n",
      "File: rock.00092.wav\n",
      "File: rock.00086.wav\n",
      "File: rock.00082.wav\n",
      "File: rock.00096.wav\n",
      "File: rock.00069.wav\n",
      "File: rock.00041.wav\n",
      "File: rock.00055.wav\n",
      "File: rock.00054.wav\n",
      "File: rock.00040.wav\n",
      "File: rock.00068.wav\n",
      "File: rock.00097.wav\n",
      "File: rock.00083.wav\n",
      "File: rock.00095.wav\n",
      "File: rock.00081.wav\n",
      "File: rock.00056.wav\n",
      "File: rock.00042.wav\n",
      "File: rock.00043.wav\n",
      "File: rock.00057.wav\n",
      "File: rock.00080.wav\n",
      "File: rock.00094.wav\n",
      "File: rock.00030.wav\n",
      "File: rock.00024.wav\n",
      "File: rock.00018.wav\n",
      "File: rock.00019.wav\n",
      "File: rock.00025.wav\n",
      "File: rock.00031.wav\n",
      "File: rock.00027.wav\n",
      "File: rock.00033.wav\n",
      "File: rock.00032.wav\n",
      "File: rock.00026.wav\n",
      "File: rock.00022.wav\n",
      "File: rock.00036.wav\n",
      "File: rock.00037.wav\n",
      "File: rock.00023.wav\n",
      "File: rock.00009.wav\n",
      "File: rock.00035.wav\n",
      "File: rock.00021.wav\n",
      "File: rock.00020.wav\n",
      "File: rock.00034.wav\n",
      "File: rock.00008.wav\n",
      "----------\n",
      "Current directory: data/genres_original/hiphop\n",
      "File: hiphop.00022.wav\n",
      "File: hiphop.00036.wav\n",
      "File: hiphop.00037.wav\n",
      "File: hiphop.00023.wav\n",
      "File: hiphop.00009.wav\n",
      "File: hiphop.00035.wav\n",
      "File: hiphop.00021.wav\n",
      "File: hiphop.00020.wav\n",
      "File: hiphop.00034.wav\n",
      "File: hiphop.00008.wav\n",
      "File: hiphop.00030.wav\n",
      "File: hiphop.00024.wav\n",
      "File: hiphop.00018.wav\n",
      "File: hiphop.00019.wav\n",
      "File: hiphop.00025.wav\n",
      "File: hiphop.00031.wav\n",
      "File: hiphop.00027.wav\n",
      "File: hiphop.00033.wav\n",
      "File: hiphop.00032.wav\n",
      "File: hiphop.00026.wav\n",
      "File: hiphop.00069.wav\n",
      "File: hiphop.00041.wav\n",
      "File: hiphop.00055.wav\n",
      "File: hiphop.00082.wav\n",
      "File: hiphop.00096.wav\n",
      "File: hiphop.00097.wav\n",
      "File: hiphop.00083.wav\n",
      "File: hiphop.00054.wav\n",
      "File: hiphop.00040.wav\n",
      "File: hiphop.00068.wav\n",
      "File: hiphop.00056.wav\n",
      "File: hiphop.00042.wav\n",
      "File: hiphop.00095.wav\n",
      "File: hiphop.00081.wav\n",
      "File: hiphop.00080.wav\n",
      "File: hiphop.00094.wav\n",
      "File: hiphop.00043.wav\n",
      "File: hiphop.00057.wav\n",
      "File: hiphop.00053.wav\n",
      "File: hiphop.00047.wav\n",
      "File: hiphop.00090.wav\n",
      "File: hiphop.00084.wav\n",
      "File: hiphop.00085.wav\n",
      "File: hiphop.00091.wav\n",
      "File: hiphop.00046.wav\n",
      "File: hiphop.00052.wav\n",
      "File: hiphop.00044.wav\n",
      "File: hiphop.00050.wav\n",
      "File: hiphop.00078.wav\n",
      "File: hiphop.00087.wav\n",
      "File: hiphop.00093.wav\n",
      "File: hiphop.00092.wav\n",
      "File: hiphop.00086.wav\n",
      "File: hiphop.00079.wav\n",
      "File: hiphop.00051.wav\n",
      "File: hiphop.00045.wav\n",
      "File: hiphop.00048.wav\n",
      "File: hiphop.00060.wav\n",
      "File: hiphop.00074.wav\n",
      "File: hiphop.00075.wav\n",
      "File: hiphop.00061.wav\n",
      "File: hiphop.00049.wav\n",
      "File: hiphop.00077.wav\n",
      "File: hiphop.00063.wav\n",
      "File: hiphop.00088.wav\n",
      "File: hiphop.00089.wav\n",
      "File: hiphop.00062.wav\n",
      "File: hiphop.00076.wav\n",
      "File: hiphop.00072.wav\n",
      "File: hiphop.00066.wav\n",
      "File: hiphop.00099.wav\n",
      "File: hiphop.00098.wav\n",
      "File: hiphop.00067.wav\n",
      "File: hiphop.00073.wav\n",
      "File: hiphop.00065.wav\n",
      "File: hiphop.00071.wav\n",
      "File: hiphop.00059.wav\n",
      "File: hiphop.00058.wav\n",
      "File: hiphop.00070.wav\n",
      "File: hiphop.00064.wav\n",
      "File: hiphop.00003.wav\n",
      "File: hiphop.00017.wav\n",
      "File: hiphop.00016.wav\n",
      "File: hiphop.00002.wav\n",
      "File: hiphop.00028.wav\n",
      "File: hiphop.00014.wav\n",
      "File: hiphop.00000.wav\n",
      "File: hiphop.00001.wav\n",
      "File: hiphop.00015.wav\n",
      "File: hiphop.00029.wav\n",
      "File: hiphop.00011.wav\n",
      "File: hiphop.00005.wav\n",
      "File: hiphop.00039.wav\n",
      "File: hiphop.00038.wav\n",
      "File: hiphop.00004.wav\n",
      "File: hiphop.00010.wav\n",
      "File: hiphop.00006.wav\n",
      "File: hiphop.00012.wav\n",
      "File: hiphop.00013.wav\n",
      "File: hiphop.00007.wav\n",
      "----------\n",
      "Current directory: data/genres_original/country\n",
      "File: country.00088.wav\n",
      "File: country.00063.wav\n",
      "File: country.00077.wav\n",
      "File: country.00076.wav\n",
      "File: country.00062.wav\n",
      "File: country.00089.wav\n",
      "File: country.00048.wav\n",
      "File: country.00074.wav\n",
      "File: country.00060.wav\n",
      "File: country.00061.wav\n",
      "File: country.00075.wav\n",
      "File: country.00049.wav\n",
      "File: country.00071.wav\n",
      "File: country.00065.wav\n",
      "File: country.00059.wav\n",
      "File: country.00058.wav\n",
      "File: country.00064.wav\n",
      "File: country.00070.wav\n",
      "File: country.00099.wav\n",
      "File: country.00066.wav\n",
      "File: country.00072.wav\n",
      "File: country.00073.wav\n",
      "File: country.00067.wav\n",
      "File: country.00098.wav\n",
      "File: country.00028.wav\n",
      "File: country.00000.wav\n",
      "File: country.00014.wav\n",
      "File: country.00015.wav\n",
      "File: country.00001.wav\n",
      "File: country.00029.wav\n",
      "File: country.00017.wav\n",
      "File: country.00003.wav\n",
      "File: country.00002.wav\n",
      "File: country.00016.wav\n",
      "File: country.00012.wav\n",
      "File: country.00006.wav\n",
      "File: country.00007.wav\n",
      "File: country.00013.wav\n",
      "File: country.00005.wav\n",
      "File: country.00011.wav\n",
      "File: country.00039.wav\n",
      "File: country.00038.wav\n",
      "File: country.00010.wav\n",
      "File: country.00004.wav\n",
      "File: country.00009.wav\n",
      "File: country.00021.wav\n",
      "File: country.00035.wav\n",
      "File: country.00034.wav\n",
      "File: country.00020.wav\n",
      "File: country.00008.wav\n",
      "File: country.00036.wav\n",
      "File: country.00022.wav\n",
      "File: country.00023.wav\n",
      "File: country.00037.wav\n",
      "File: country.00033.wav\n",
      "File: country.00027.wav\n",
      "File: country.00026.wav\n",
      "File: country.00032.wav\n",
      "File: country.00024.wav\n",
      "File: country.00030.wav\n",
      "File: country.00018.wav\n",
      "File: country.00019.wav\n",
      "File: country.00031.wav\n",
      "File: country.00025.wav\n",
      "File: country.00081.wav\n",
      "File: country.00095.wav\n",
      "File: country.00042.wav\n",
      "File: country.00056.wav\n",
      "File: country.00057.wav\n",
      "File: country.00043.wav\n",
      "File: country.00094.wav\n",
      "File: country.00080.wav\n",
      "File: country.00096.wav\n",
      "File: country.00082.wav\n",
      "File: country.00069.wav\n",
      "File: country.00055.wav\n",
      "File: country.00041.wav\n",
      "File: country.00040.wav\n",
      "File: country.00054.wav\n",
      "File: country.00068.wav\n",
      "File: country.00083.wav\n",
      "File: country.00097.wav\n",
      "File: country.00093.wav\n",
      "File: country.00087.wav\n",
      "File: country.00050.wav\n",
      "File: country.00044.wav\n",
      "File: country.00078.wav\n",
      "File: country.00079.wav\n",
      "File: country.00045.wav\n",
      "File: country.00051.wav\n",
      "File: country.00086.wav\n",
      "File: country.00092.wav\n",
      "File: country.00084.wav\n",
      "File: country.00090.wav\n",
      "File: country.00047.wav\n",
      "File: country.00053.wav\n",
      "File: country.00052.wav\n",
      "File: country.00046.wav\n",
      "File: country.00091.wav\n",
      "File: country.00085.wav\n",
      "----------\n",
      "Current directory: data/genres_original/jazz\n",
      "File: jazz.00016.wav\n",
      "File: jazz.00002.wav\n",
      "File: jazz.00003.wav\n",
      "File: jazz.00017.wav\n",
      "File: jazz.00001.wav\n",
      "File: jazz.00015.wav\n",
      "File: jazz.00029.wav\n",
      "File: jazz.00028.wav\n",
      "File: jazz.00014.wav\n",
      "File: jazz.00000.wav\n",
      "File: jazz.00038.wav\n",
      "File: jazz.00004.wav\n",
      "File: jazz.00010.wav\n",
      "File: jazz.00011.wav\n",
      "File: jazz.00005.wav\n",
      "File: jazz.00039.wav\n",
      "File: jazz.00013.wav\n",
      "File: jazz.00007.wav\n",
      "File: jazz.00006.wav\n",
      "File: jazz.00012.wav\n",
      "File: jazz.00075.wav\n",
      "File: jazz.00061.wav\n",
      "File: jazz.00049.wav\n",
      "File: jazz.00048.wav\n",
      "File: jazz.00060.wav\n",
      "File: jazz.00074.wav\n",
      "File: jazz.00062.wav\n",
      "File: jazz.00076.wav\n",
      "File: jazz.00089.wav\n",
      "File: jazz.00088.wav\n",
      "File: jazz.00077.wav\n",
      "File: jazz.00063.wav\n",
      "File: jazz.00067.wav\n",
      "File: jazz.00073.wav\n",
      "File: jazz.00098.wav\n",
      "File: jazz.00099.wav\n",
      "File: jazz.00072.wav\n",
      "File: jazz.00066.wav\n",
      "File: jazz.00058.wav\n",
      "File: jazz.00070.wav\n",
      "File: jazz.00064.wav\n",
      "File: jazz.00065.wav\n",
      "File: jazz.00071.wav\n",
      "File: jazz.00059.wav\n",
      "File: jazz.00040.wav\n",
      "File: jazz.00068.wav\n",
      "File: jazz.00097.wav\n",
      "File: jazz.00083.wav\n",
      "File: jazz.00082.wav\n",
      "File: jazz.00096.wav\n",
      "File: jazz.00069.wav\n",
      "File: jazz.00041.wav\n",
      "File: jazz.00055.wav\n",
      "File: jazz.00043.wav\n",
      "File: jazz.00057.wav\n",
      "File: jazz.00080.wav\n",
      "File: jazz.00094.wav\n",
      "File: jazz.00095.wav\n",
      "File: jazz.00081.wav\n",
      "File: jazz.00056.wav\n",
      "File: jazz.00042.wav\n",
      "File: jazz.00046.wav\n",
      "File: jazz.00052.wav\n",
      "File: jazz.00085.wav\n",
      "File: jazz.00091.wav\n",
      "File: jazz.00090.wav\n",
      "File: jazz.00084.wav\n",
      "File: jazz.00053.wav\n",
      "File: jazz.00047.wav\n",
      "File: jazz.00079.wav\n",
      "File: jazz.00051.wav\n",
      "File: jazz.00045.wav\n",
      "File: jazz.00092.wav\n",
      "File: jazz.00086.wav\n",
      "File: jazz.00087.wav\n",
      "File: jazz.00093.wav\n",
      "File: jazz.00044.wav\n",
      "File: jazz.00050.wav\n",
      "File: jazz.00078.wav\n",
      "File: jazz.00037.wav\n",
      "File: jazz.00023.wav\n",
      "File: jazz.00022.wav\n",
      "File: jazz.00036.wav\n",
      "File: jazz.00020.wav\n",
      "File: jazz.00034.wav\n",
      "File: jazz.00008.wav\n",
      "File: jazz.00009.wav\n",
      "File: jazz.00035.wav\n",
      "File: jazz.00021.wav\n",
      "File: jazz.00019.wav\n",
      "File: jazz.00025.wav\n",
      "File: jazz.00031.wav\n",
      "File: jazz.00030.wav\n",
      "File: jazz.00024.wav\n",
      "File: jazz.00018.wav\n",
      "File: jazz.00032.wav\n",
      "File: jazz.00026.wav\n",
      "File: jazz.00027.wav\n",
      "File: jazz.00033.wav\n",
      "----------\n"
     ]
    }
   ],
   "source": [
    "ID = []\n",
    "reduction = []\n",
    "for dirpath, dirnames, filenames in os.walk('data/genres_original'):\n",
    "    if filenames:\n",
    "        print(f\"Current directory: {dirpath}\")\n",
    "        for filename in filenames:\n",
    "            print(f\"File: {filename}\")\n",
    "\n",
    "            filepath = os.path.join(dirpath, filename)\n",
    "\n",
    "            sound = AudioSegment.from_wav(filepath)\n",
    "            sound.export(\"temp/test.flac\", format=\"flac\")\n",
    "            percent_reduction = (1 - (os.path.getsize(\"temp/test.flac\")/os.path.getsize(filepath)))\n",
    "            os.remove(\"temp/test.flac\")\n",
    "\n",
    "            ID.append(filename)\n",
    "            reduction.append(percent_reduction)\n",
    "        print(\"----------\")\n",
    "\n",
    "df = pd.DataFrame({'filename': ID, \n",
    "                   'compression_reduction': reduction})\n",
    "\n",
    "df.to_csv('compression_feature.csv', index = False)"
   ]
  },
  {
   "cell_type": "code",
   "execution_count": 5,
   "metadata": {},
   "outputs": [
    {
     "data": {
      "application/vnd.plotly.v1+json": {
       "config": {
        "plotlyServerURL": "https://plot.ly"
       },
       "data": [
        {
         "alignmentgroup": "True",
         "hovertemplate": "x=%{x}<br>y=%{y}<extra></extra>",
         "legendgroup": "",
         "marker": {
          "color": "#636efa",
          "pattern": {
           "shape": ""
          }
         },
         "name": "",
         "offsetgroup": "",
         "orientation": "v",
         "showlegend": false,
         "textposition": "auto",
         "type": "bar",
         "x": [
          "blues",
          "classical",
          "country",
          "disco",
          "hiphop",
          "jazz",
          "metal",
          "pop",
          "reggae",
          "rock"
         ],
         "xaxis": "x",
         "y": [
          0.33288407956289967,
          0.4886786053084742,
          0.3085706946304829,
          0.24301752550229924,
          0.24905650182961495,
          0.3735450272521869,
          0.2252666788689404,
          0.19632887445089078,
          0.3145106762318497,
          0.2723261941310667
         ],
         "yaxis": "y"
        }
       ],
       "layout": {
        "barmode": "relative",
        "legend": {
         "tracegroupgap": 0
        },
        "margin": {
         "t": 60
        },
        "template": {
         "data": {
          "bar": [
           {
            "error_x": {
             "color": "#2a3f5f"
            },
            "error_y": {
             "color": "#2a3f5f"
            },
            "marker": {
             "line": {
              "color": "#E5ECF6",
              "width": 0.5
             },
             "pattern": {
              "fillmode": "overlay",
              "size": 10,
              "solidity": 0.2
             }
            },
            "type": "bar"
           }
          ],
          "barpolar": [
           {
            "marker": {
             "line": {
              "color": "#E5ECF6",
              "width": 0.5
             },
             "pattern": {
              "fillmode": "overlay",
              "size": 10,
              "solidity": 0.2
             }
            },
            "type": "barpolar"
           }
          ],
          "carpet": [
           {
            "aaxis": {
             "endlinecolor": "#2a3f5f",
             "gridcolor": "white",
             "linecolor": "white",
             "minorgridcolor": "white",
             "startlinecolor": "#2a3f5f"
            },
            "baxis": {
             "endlinecolor": "#2a3f5f",
             "gridcolor": "white",
             "linecolor": "white",
             "minorgridcolor": "white",
             "startlinecolor": "#2a3f5f"
            },
            "type": "carpet"
           }
          ],
          "choropleth": [
           {
            "colorbar": {
             "outlinewidth": 0,
             "ticks": ""
            },
            "type": "choropleth"
           }
          ],
          "contour": [
           {
            "colorbar": {
             "outlinewidth": 0,
             "ticks": ""
            },
            "colorscale": [
             [
              0,
              "#0d0887"
             ],
             [
              0.1111111111111111,
              "#46039f"
             ],
             [
              0.2222222222222222,
              "#7201a8"
             ],
             [
              0.3333333333333333,
              "#9c179e"
             ],
             [
              0.4444444444444444,
              "#bd3786"
             ],
             [
              0.5555555555555556,
              "#d8576b"
             ],
             [
              0.6666666666666666,
              "#ed7953"
             ],
             [
              0.7777777777777778,
              "#fb9f3a"
             ],
             [
              0.8888888888888888,
              "#fdca26"
             ],
             [
              1,
              "#f0f921"
             ]
            ],
            "type": "contour"
           }
          ],
          "contourcarpet": [
           {
            "colorbar": {
             "outlinewidth": 0,
             "ticks": ""
            },
            "type": "contourcarpet"
           }
          ],
          "heatmap": [
           {
            "colorbar": {
             "outlinewidth": 0,
             "ticks": ""
            },
            "colorscale": [
             [
              0,
              "#0d0887"
             ],
             [
              0.1111111111111111,
              "#46039f"
             ],
             [
              0.2222222222222222,
              "#7201a8"
             ],
             [
              0.3333333333333333,
              "#9c179e"
             ],
             [
              0.4444444444444444,
              "#bd3786"
             ],
             [
              0.5555555555555556,
              "#d8576b"
             ],
             [
              0.6666666666666666,
              "#ed7953"
             ],
             [
              0.7777777777777778,
              "#fb9f3a"
             ],
             [
              0.8888888888888888,
              "#fdca26"
             ],
             [
              1,
              "#f0f921"
             ]
            ],
            "type": "heatmap"
           }
          ],
          "heatmapgl": [
           {
            "colorbar": {
             "outlinewidth": 0,
             "ticks": ""
            },
            "colorscale": [
             [
              0,
              "#0d0887"
             ],
             [
              0.1111111111111111,
              "#46039f"
             ],
             [
              0.2222222222222222,
              "#7201a8"
             ],
             [
              0.3333333333333333,
              "#9c179e"
             ],
             [
              0.4444444444444444,
              "#bd3786"
             ],
             [
              0.5555555555555556,
              "#d8576b"
             ],
             [
              0.6666666666666666,
              "#ed7953"
             ],
             [
              0.7777777777777778,
              "#fb9f3a"
             ],
             [
              0.8888888888888888,
              "#fdca26"
             ],
             [
              1,
              "#f0f921"
             ]
            ],
            "type": "heatmapgl"
           }
          ],
          "histogram": [
           {
            "marker": {
             "pattern": {
              "fillmode": "overlay",
              "size": 10,
              "solidity": 0.2
             }
            },
            "type": "histogram"
           }
          ],
          "histogram2d": [
           {
            "colorbar": {
             "outlinewidth": 0,
             "ticks": ""
            },
            "colorscale": [
             [
              0,
              "#0d0887"
             ],
             [
              0.1111111111111111,
              "#46039f"
             ],
             [
              0.2222222222222222,
              "#7201a8"
             ],
             [
              0.3333333333333333,
              "#9c179e"
             ],
             [
              0.4444444444444444,
              "#bd3786"
             ],
             [
              0.5555555555555556,
              "#d8576b"
             ],
             [
              0.6666666666666666,
              "#ed7953"
             ],
             [
              0.7777777777777778,
              "#fb9f3a"
             ],
             [
              0.8888888888888888,
              "#fdca26"
             ],
             [
              1,
              "#f0f921"
             ]
            ],
            "type": "histogram2d"
           }
          ],
          "histogram2dcontour": [
           {
            "colorbar": {
             "outlinewidth": 0,
             "ticks": ""
            },
            "colorscale": [
             [
              0,
              "#0d0887"
             ],
             [
              0.1111111111111111,
              "#46039f"
             ],
             [
              0.2222222222222222,
              "#7201a8"
             ],
             [
              0.3333333333333333,
              "#9c179e"
             ],
             [
              0.4444444444444444,
              "#bd3786"
             ],
             [
              0.5555555555555556,
              "#d8576b"
             ],
             [
              0.6666666666666666,
              "#ed7953"
             ],
             [
              0.7777777777777778,
              "#fb9f3a"
             ],
             [
              0.8888888888888888,
              "#fdca26"
             ],
             [
              1,
              "#f0f921"
             ]
            ],
            "type": "histogram2dcontour"
           }
          ],
          "mesh3d": [
           {
            "colorbar": {
             "outlinewidth": 0,
             "ticks": ""
            },
            "type": "mesh3d"
           }
          ],
          "parcoords": [
           {
            "line": {
             "colorbar": {
              "outlinewidth": 0,
              "ticks": ""
             }
            },
            "type": "parcoords"
           }
          ],
          "pie": [
           {
            "automargin": true,
            "type": "pie"
           }
          ],
          "scatter": [
           {
            "fillpattern": {
             "fillmode": "overlay",
             "size": 10,
             "solidity": 0.2
            },
            "type": "scatter"
           }
          ],
          "scatter3d": [
           {
            "line": {
             "colorbar": {
              "outlinewidth": 0,
              "ticks": ""
             }
            },
            "marker": {
             "colorbar": {
              "outlinewidth": 0,
              "ticks": ""
             }
            },
            "type": "scatter3d"
           }
          ],
          "scattercarpet": [
           {
            "marker": {
             "colorbar": {
              "outlinewidth": 0,
              "ticks": ""
             }
            },
            "type": "scattercarpet"
           }
          ],
          "scattergeo": [
           {
            "marker": {
             "colorbar": {
              "outlinewidth": 0,
              "ticks": ""
             }
            },
            "type": "scattergeo"
           }
          ],
          "scattergl": [
           {
            "marker": {
             "colorbar": {
              "outlinewidth": 0,
              "ticks": ""
             }
            },
            "type": "scattergl"
           }
          ],
          "scattermapbox": [
           {
            "marker": {
             "colorbar": {
              "outlinewidth": 0,
              "ticks": ""
             }
            },
            "type": "scattermapbox"
           }
          ],
          "scatterpolar": [
           {
            "marker": {
             "colorbar": {
              "outlinewidth": 0,
              "ticks": ""
             }
            },
            "type": "scatterpolar"
           }
          ],
          "scatterpolargl": [
           {
            "marker": {
             "colorbar": {
              "outlinewidth": 0,
              "ticks": ""
             }
            },
            "type": "scatterpolargl"
           }
          ],
          "scatterternary": [
           {
            "marker": {
             "colorbar": {
              "outlinewidth": 0,
              "ticks": ""
             }
            },
            "type": "scatterternary"
           }
          ],
          "surface": [
           {
            "colorbar": {
             "outlinewidth": 0,
             "ticks": ""
            },
            "colorscale": [
             [
              0,
              "#0d0887"
             ],
             [
              0.1111111111111111,
              "#46039f"
             ],
             [
              0.2222222222222222,
              "#7201a8"
             ],
             [
              0.3333333333333333,
              "#9c179e"
             ],
             [
              0.4444444444444444,
              "#bd3786"
             ],
             [
              0.5555555555555556,
              "#d8576b"
             ],
             [
              0.6666666666666666,
              "#ed7953"
             ],
             [
              0.7777777777777778,
              "#fb9f3a"
             ],
             [
              0.8888888888888888,
              "#fdca26"
             ],
             [
              1,
              "#f0f921"
             ]
            ],
            "type": "surface"
           }
          ],
          "table": [
           {
            "cells": {
             "fill": {
              "color": "#EBF0F8"
             },
             "line": {
              "color": "white"
             }
            },
            "header": {
             "fill": {
              "color": "#C8D4E3"
             },
             "line": {
              "color": "white"
             }
            },
            "type": "table"
           }
          ]
         },
         "layout": {
          "annotationdefaults": {
           "arrowcolor": "#2a3f5f",
           "arrowhead": 0,
           "arrowwidth": 1
          },
          "autotypenumbers": "strict",
          "coloraxis": {
           "colorbar": {
            "outlinewidth": 0,
            "ticks": ""
           }
          },
          "colorscale": {
           "diverging": [
            [
             0,
             "#8e0152"
            ],
            [
             0.1,
             "#c51b7d"
            ],
            [
             0.2,
             "#de77ae"
            ],
            [
             0.3,
             "#f1b6da"
            ],
            [
             0.4,
             "#fde0ef"
            ],
            [
             0.5,
             "#f7f7f7"
            ],
            [
             0.6,
             "#e6f5d0"
            ],
            [
             0.7,
             "#b8e186"
            ],
            [
             0.8,
             "#7fbc41"
            ],
            [
             0.9,
             "#4d9221"
            ],
            [
             1,
             "#276419"
            ]
           ],
           "sequential": [
            [
             0,
             "#0d0887"
            ],
            [
             0.1111111111111111,
             "#46039f"
            ],
            [
             0.2222222222222222,
             "#7201a8"
            ],
            [
             0.3333333333333333,
             "#9c179e"
            ],
            [
             0.4444444444444444,
             "#bd3786"
            ],
            [
             0.5555555555555556,
             "#d8576b"
            ],
            [
             0.6666666666666666,
             "#ed7953"
            ],
            [
             0.7777777777777778,
             "#fb9f3a"
            ],
            [
             0.8888888888888888,
             "#fdca26"
            ],
            [
             1,
             "#f0f921"
            ]
           ],
           "sequentialminus": [
            [
             0,
             "#0d0887"
            ],
            [
             0.1111111111111111,
             "#46039f"
            ],
            [
             0.2222222222222222,
             "#7201a8"
            ],
            [
             0.3333333333333333,
             "#9c179e"
            ],
            [
             0.4444444444444444,
             "#bd3786"
            ],
            [
             0.5555555555555556,
             "#d8576b"
            ],
            [
             0.6666666666666666,
             "#ed7953"
            ],
            [
             0.7777777777777778,
             "#fb9f3a"
            ],
            [
             0.8888888888888888,
             "#fdca26"
            ],
            [
             1,
             "#f0f921"
            ]
           ]
          },
          "colorway": [
           "#636efa",
           "#EF553B",
           "#00cc96",
           "#ab63fa",
           "#FFA15A",
           "#19d3f3",
           "#FF6692",
           "#B6E880",
           "#FF97FF",
           "#FECB52"
          ],
          "font": {
           "color": "#2a3f5f"
          },
          "geo": {
           "bgcolor": "white",
           "lakecolor": "white",
           "landcolor": "#E5ECF6",
           "showlakes": true,
           "showland": true,
           "subunitcolor": "white"
          },
          "hoverlabel": {
           "align": "left"
          },
          "hovermode": "closest",
          "mapbox": {
           "style": "light"
          },
          "paper_bgcolor": "white",
          "plot_bgcolor": "#E5ECF6",
          "polar": {
           "angularaxis": {
            "gridcolor": "white",
            "linecolor": "white",
            "ticks": ""
           },
           "bgcolor": "#E5ECF6",
           "radialaxis": {
            "gridcolor": "white",
            "linecolor": "white",
            "ticks": ""
           }
          },
          "scene": {
           "xaxis": {
            "backgroundcolor": "#E5ECF6",
            "gridcolor": "white",
            "gridwidth": 2,
            "linecolor": "white",
            "showbackground": true,
            "ticks": "",
            "zerolinecolor": "white"
           },
           "yaxis": {
            "backgroundcolor": "#E5ECF6",
            "gridcolor": "white",
            "gridwidth": 2,
            "linecolor": "white",
            "showbackground": true,
            "ticks": "",
            "zerolinecolor": "white"
           },
           "zaxis": {
            "backgroundcolor": "#E5ECF6",
            "gridcolor": "white",
            "gridwidth": 2,
            "linecolor": "white",
            "showbackground": true,
            "ticks": "",
            "zerolinecolor": "white"
           }
          },
          "shapedefaults": {
           "line": {
            "color": "#2a3f5f"
           }
          },
          "ternary": {
           "aaxis": {
            "gridcolor": "white",
            "linecolor": "white",
            "ticks": ""
           },
           "baxis": {
            "gridcolor": "white",
            "linecolor": "white",
            "ticks": ""
           },
           "bgcolor": "#E5ECF6",
           "caxis": {
            "gridcolor": "white",
            "linecolor": "white",
            "ticks": ""
           }
          },
          "title": {
           "x": 0.05
          },
          "xaxis": {
           "automargin": true,
           "gridcolor": "white",
           "linecolor": "white",
           "ticks": "",
           "title": {
            "standoff": 15
           },
           "zerolinecolor": "white",
           "zerolinewidth": 2
          },
          "yaxis": {
           "automargin": true,
           "gridcolor": "white",
           "linecolor": "white",
           "ticks": "",
           "title": {
            "standoff": 15
           },
           "zerolinecolor": "white",
           "zerolinewidth": 2
          }
         }
        },
        "title": {
         "text": "Average lossless compression by genre"
        },
        "xaxis": {
         "anchor": "y",
         "domain": [
          0,
          1
         ],
         "title": {
          "text": "Genre"
         }
        },
        "yaxis": {
         "anchor": "x",
         "domain": [
          0,
          1
         ],
         "title": {
          "text": "Percent reduction"
         }
        }
       }
      }
     },
     "metadata": {},
     "output_type": "display_data"
    }
   ],
   "source": [
    "df = pd.read_csv('compression_feature.csv')\n",
    "\n",
    "df['genre'] = df['filename'].str.extract((r'([a-z]+)'))\n",
    "\n",
    "df_grouped = df.groupby('genre').mean(numeric_only=True).reset_index()\n",
    "\n",
    "fig = px.bar(x = df_grouped['genre'], y = df_grouped['compression_reduction'])\n",
    "fig.update_layout(\n",
    "    title='Average lossless compression by genre',\n",
    "    xaxis_title='Genre',\n",
    "    yaxis_title='Percent reduction'\n",
    ")\n",
    "fig.show()"
   ]
  }
 ],
 "metadata": {
  "kernelspec": {
   "display_name": "stat386",
   "language": "python",
   "name": "python3"
  },
  "language_info": {
   "codemirror_mode": {
    "name": "ipython",
    "version": 3
   },
   "file_extension": ".py",
   "mimetype": "text/x-python",
   "name": "python",
   "nbconvert_exporter": "python",
   "pygments_lexer": "ipython3",
   "version": "3.10.12"
  }
 },
 "nbformat": 4,
 "nbformat_minor": 2
}
