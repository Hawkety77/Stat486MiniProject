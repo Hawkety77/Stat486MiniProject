{
 "cells": [
  {
   "cell_type": "markdown",
   "metadata": {},
   "source": [
    "# Final Mini Project Report: Music Genre Classification\n",
    "\n",
    "#### Michael Miceli, Kaden Franklin, Scott Brown, Ty Hawkes\n",
    "\n",
    "## Introduction\n",
    "Around 120,000 new music tracks are uploaded to streaming services every day. Due to the increasingly high number of songs produced now days, it is time consuming and expensive for humans to listen to each song and classify its genre. Classifying new tracks into correct genres allows streaming services to recommend these tracks to audiences that are more likely to enjoy them. In this project, we aim to develop a predictive model that can take an audio sample, and accurately classify it's genre without the need of a human ear.\n",
    "\n",
    "## Exploratory Data Analysis"
   ]
  },
  {
   "cell_type": "code",
   "execution_count": null,
   "metadata": {},
   "outputs": [],
   "source": [
    "# Import Libraries\n"
   ]
  }
 ],
 "metadata": {
  "language_info": {
   "name": "python"
  }
 },
 "nbformat": 4,
 "nbformat_minor": 2
}
